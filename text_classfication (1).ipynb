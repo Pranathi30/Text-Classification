{
  "nbformat": 4,
  "nbformat_minor": 0,
  "metadata": {
    "colab": {
      "name": "text_classfication.ipynb",
      "version": "0.3.2",
      "provenance": [],
      "collapsed_sections": []
    },
    "kernelspec": {
      "name": "python3",
      "display_name": "Python 3"
    },
    "accelerator": "GPU"
  },
  "cells": [
    {
      "metadata": {
        "id": "u9B_KDZt3eF0",
        "colab_type": "code",
        "colab": {}
      },
      "cell_type": "code",
      "source": [
        "!pip install -q keras"
      ],
      "execution_count": 0,
      "outputs": []
    },
    {
      "metadata": {
        "id": "FzW2AqiF3kC6",
        "colab_type": "code",
        "colab": {
          "base_uri": "https://localhost:8080/",
          "height": 34
        },
        "outputId": "bea006e6-73b4-43c2-c863-c80dead859d9"
      },
      "cell_type": "code",
      "source": [
        "import tensorflow as tf\n",
        "tf.test.gpu_device_name()"
      ],
      "execution_count": 3,
      "outputs": [
        {
          "output_type": "execute_result",
          "data": {
            "text/plain": [
              "'/device:GPU:0'"
            ]
          },
          "metadata": {
            "tags": []
          },
          "execution_count": 3
        }
      ]
    },
    {
      "metadata": {
        "id": "m96_ZLif67Wh",
        "colab_type": "code",
        "colab": {
          "base_uri": "https://localhost:8080/",
          "height": 68
        },
        "outputId": "4a645c4a-af4e-4872-d57d-7a95428f68f5"
      },
      "cell_type": "code",
      "source": [
        "!pip install xgboost==0.7.post3\n",
        "!pip install textblob"
      ],
      "execution_count": 4,
      "outputs": [
        {
          "output_type": "stream",
          "text": [
            "Requirement already satisfied: xgboost==0.7.post3 in /usr/local/lib/python3.6/dist-packages (0.7.post3)\r\n",
            "Requirement already satisfied: numpy in /usr/local/lib/python3.6/dist-packages (from xgboost==0.7.post3) (1.14.5)\r\n",
            "Requirement already satisfied: scipy in /usr/local/lib/python3.6/dist-packages (from xgboost==0.7.post3) (0.19.1)\r\n"
          ],
          "name": "stdout"
        }
      ]
    },
    {
      "metadata": {
        "id": "Z9ZSq7wh7tMz",
        "colab_type": "code",
        "colab": {
          "base_uri": "https://localhost:8080/",
          "height": 34
        },
        "outputId": "b3ac17f4-9aef-4298-a75d-34aa3c276a36"
      },
      "cell_type": "code",
      "source": [
        "import pandas as pd\n",
        "import numpy as np\n",
        "import io\n",
        "from textblob import TextBlob\n",
        "\n",
        "\n",
        "from sklearn import model_selection, preprocessing, linear_model, naive_bayes, metrics, svm\n",
        "from sklearn.feature_extraction.text import TfidfVectorizer, CountVectorizer\n",
        "from sklearn import decomposition, ensemble\n",
        "\n",
        "import xgboost,textblob, string\n",
        "from keras.preprocessing import text, sequence\n",
        "from keras import layers, models, optimizers"
      ],
      "execution_count": 6,
      "outputs": [
        {
          "output_type": "stream",
          "text": [
            "Using TensorFlow backend.\n"
          ],
          "name": "stderr"
        }
      ]
    },
    {
      "metadata": {
        "id": "3x3M72vr4RPi",
        "colab_type": "code",
        "colab": {}
      },
      "cell_type": "code",
      "source": [
        "from google.colab import files"
      ],
      "execution_count": 0,
      "outputs": []
    },
    {
      "metadata": {
        "id": "34Ql-BlX4Yu9",
        "colab_type": "code",
        "colab": {
          "resources": {
            "http://localhost:8080/nbextensions/google.colab/files.js": {
              "data": "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",
              "ok": true,
              "headers": [
                [
                  "content-type",
                  "application/javascript"
                ]
              ],
              "status": 200,
              "status_text": ""
            }
          },
          "base_uri": "https://localhost:8080/",
          "height": 72
        },
        "outputId": "327be570-f2d9-4382-d71d-602fdd53c100"
      },
      "cell_type": "code",
      "source": [
        "uploaded = files.upload()"
      ],
      "execution_count": 126,
      "outputs": [
        {
          "output_type": "display_data",
          "data": {
            "text/html": [
              "\n",
              "     <input type=\"file\" id=\"files-198d5d94-6453-40fd-b2a0-249cc5188ad9\" name=\"files[]\" multiple disabled />\n",
              "     <output id=\"result-198d5d94-6453-40fd-b2a0-249cc5188ad9\">\n",
              "      Upload widget is only available when the cell has been executed in the\n",
              "      current browser session. Please rerun this cell to enable.\n",
              "      </output>\n",
              "      <script src=\"/nbextensions/google.colab/files.js\"></script> "
            ],
            "text/plain": [
              "<IPython.core.display.HTML object>"
            ]
          },
          "metadata": {
            "tags": []
          }
        },
        {
          "output_type": "stream",
          "text": [
            "Saving train.csv to train (2).csv\n"
          ],
          "name": "stdout"
        }
      ]
    },
    {
      "metadata": {
        "id": "DipuNkJH44za",
        "colab_type": "code",
        "colab": {
          "resources": {
            "http://localhost:8080/nbextensions/google.colab/files.js": {
              "data": "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",
              "ok": true,
              "headers": [
                [
                  "content-type",
                  "application/javascript"
                ]
              ],
              "status": 200,
              "status_text": ""
            }
          },
          "base_uri": "https://localhost:8080/",
          "height": 72
        },
        "outputId": "d0a1cc35-e6a7-44b2-f7e0-9e6b4d3b20c9"
      },
      "cell_type": "code",
      "source": [
        "uploaded = files.upload()"
      ],
      "execution_count": 128,
      "outputs": [
        {
          "output_type": "display_data",
          "data": {
            "text/html": [
              "\n",
              "     <input type=\"file\" id=\"files-aee85a2d-0de5-45ac-936e-5743d6f83a86\" name=\"files[]\" multiple disabled />\n",
              "     <output id=\"result-aee85a2d-0de5-45ac-936e-5743d6f83a86\">\n",
              "      Upload widget is only available when the cell has been executed in the\n",
              "      current browser session. Please rerun this cell to enable.\n",
              "      </output>\n",
              "      <script src=\"/nbextensions/google.colab/files.js\"></script> "
            ],
            "text/plain": [
              "<IPython.core.display.HTML object>"
            ]
          },
          "metadata": {
            "tags": []
          }
        },
        {
          "output_type": "stream",
          "text": [
            "Saving test.csv to test (2).csv\n"
          ],
          "name": "stdout"
        }
      ]
    },
    {
      "metadata": {
        "id": "4ee29Gm5LQvu",
        "colab_type": "code",
        "colab": {
          "resources": {
            "http://localhost:8080/nbextensions/google.colab/files.js": {
              "data": "Ly8gQ29weXJpZ2h0IDIwMTcgR29vZ2xlIExMQwovLwovLyBMaWNlbnNlZCB1bmRlciB0aGUgQXBhY2hlIExpY2Vuc2UsIFZlcnNpb24gMi4wICh0aGUgIkxpY2Vuc2UiKTsKLy8geW91IG1heSBub3QgdXNlIHRoaXMgZmlsZSBleGNlcHQgaW4gY29tcGxpYW5jZSB3aXRoIHRoZSBMaWNlbnNlLgovLyBZb3UgbWF5IG9idGFpbiBhIGNvcHkgb2YgdGhlIExpY2Vuc2UgYXQKLy8KLy8gICAgICBodHRwOi8vd3d3LmFwYWNoZS5vcmcvbGljZW5zZXMvTElDRU5TRS0yLjAKLy8KLy8gVW5sZXNzIHJlcXVpcmVkIGJ5IGFwcGxpY2FibGUgbGF3IG9yIGFncmVlZCB0byBpbiB3cml0aW5nLCBzb2Z0d2FyZQovLyBkaXN0cmlidXRlZCB1bmRlciB0aGUgTGljZW5zZSBpcyBkaXN0cmlidXRlZCBvbiBhbiAiQVMgSVMiIEJBU0lTLAovLyBXSVRIT1VUIFdBUlJBTlRJRVMgT1IgQ09ORElUSU9OUyBPRiBBTlkgS0lORCwgZWl0aGVyIGV4cHJlc3Mgb3IgaW1wbGllZC4KLy8gU2VlIHRoZSBMaWNlbnNlIGZvciB0aGUgc3BlY2lmaWMgbGFuZ3VhZ2UgZ292ZXJuaW5nIHBlcm1pc3Npb25zIGFuZAovLyBsaW1pdGF0aW9ucyB1bmRlciB0aGUgTGljZW5zZS4KCi8qKgogKiBAZmlsZW92ZXJ2aWV3IEhlbHBlcnMgZm9yIGdvb2dsZS5jb2xhYiBQeXRob24gbW9kdWxlLgogKi8KKGZ1bmN0aW9uKHNjb3BlKSB7CmZ1bmN0aW9uIHNwYW4odGV4dCwgc3R5bGVBdHRyaWJ1dGVzID0ge30pIHsKICBjb25zdCBlbGVtZW50ID0gZG9jdW1lbnQuY3JlYXRlRWxlbWVudCgnc3BhbicpOwogIGVsZW1lbnQudGV4dENvbnRlbnQgPSB0ZXh0OwogIGZvciAoY29uc3Qga2V5IG9mIE9iamVjdC5rZXlzKHN0eWxlQXR0cmlidXRlcykpIHsKICAgIGVsZW1lbnQuc3R5bGVba2V5XSA9IHN0eWxlQXR0cmlidXRlc1trZXldOwogIH0KICByZXR1cm4gZWxlbWVudDsKfQoKLy8gTWF4IG51bWJlciBvZiBieXRlcyB3aGljaCB3aWxsIGJlIHVwbG9hZGVkIGF0IGEgdGltZS4KY29uc3QgTUFYX1BBWUxPQURfU0laRSA9IDEwMCAqIDEwMjQ7Ci8vIE1heCBhbW91bnQgb2YgdGltZSB0byBibG9jayB3YWl0aW5nIGZvciB0aGUgdXNlci4KY29uc3QgRklMRV9DSEFOR0VfVElNRU9VVF9NUyA9IDMwICogMTAwMDsKCmZ1bmN0aW9uIF91cGxvYWRGaWxlcyhpbnB1dElkLCBvdXRwdXRJZCkgewogIGNvbnN0IHN0ZXBzID0gdXBsb2FkRmlsZXNTdGVwKGlucHV0SWQsIG91dHB1dElkKTsKICBjb25zdCBvdXRwdXRFbGVtZW50ID0gZG9jdW1lbnQuZ2V0RWxlbWVudEJ5SWQob3V0cHV0SWQpOwogIC8vIENhY2hlIHN0ZXBzIG9uIHRoZSBvdXRwdXRFbGVtZW50IHRvIG1ha2UgaXQgYXZhaWxhYmxlIGZvciB0aGUgbmV4dCBjYWxsCiAgLy8gdG8gdXBsb2FkRmlsZXNDb250aW51ZSBmcm9tIFB5dGhvbi4KICBvdXRwdXRFbGVtZW50LnN0ZXBzID0gc3RlcHM7CgogIHJldHVybiBfdXBsb2FkRmlsZXNDb250aW51ZShvdXRwdXRJZCk7Cn0KCi8vIFRoaXMgaXMgcm91Z2hseSBhbiBhc3luYyBnZW5lcmF0b3IgKG5vdCBzdXBwb3J0ZWQgaW4gdGhlIGJyb3dzZXIgeWV0KSwKLy8gd2hlcmUgdGhlcmUgYXJlIG11bHRpcGxlIGFzeW5jaHJvbm91cyBzdGVwcyBhbmQgdGhlIFB5dGhvbiBzaWRlIGlzIGdvaW5nCi8vIHRvIHBvbGwgZm9yIGNvbXBsZXRpb24gb2YgZWFjaCBzdGVwLgovLyBUaGlzIHVzZXMgYSBQcm9taXNlIHRvIGJsb2NrIHRoZSBweXRob24gc2lkZSBvbiBjb21wbGV0aW9uIG9mIGVhY2ggc3RlcCwKLy8gdGhlbiBwYXNzZXMgdGhlIHJlc3VsdCBvZiB0aGUgcHJldmlvdXMgc3RlcCBhcyB0aGUgaW5wdXQgdG8gdGhlIG5leHQgc3RlcC4KZnVuY3Rpb24gX3VwbG9hZEZpbGVzQ29udGludWUob3V0cHV0SWQpIHsKICBjb25zdCBvdXRwdXRFbGVtZW50ID0gZG9jdW1lbnQuZ2V0RWxlbWVudEJ5SWQob3V0cHV0SWQpOwogIGNvbnN0IHN0ZXBzID0gb3V0cHV0RWxlbWVudC5zdGVwczsKCiAgY29uc3QgbmV4dCA9IHN0ZXBzLm5leHQob3V0cHV0RWxlbWVudC5sYXN0UHJvbWlzZVZhbHVlKTsKICByZXR1cm4gUHJvbWlzZS5yZXNvbHZlKG5leHQudmFsdWUucHJvbWlzZSkudGhlbigodmFsdWUpID0+IHsKICAgIC8vIENhY2hlIHRoZSBsYXN0IHByb21pc2UgdmFsdWUgdG8gbWFrZSBpdCBhdmFpbGFibGUgdG8gdGhlIG5leHQKICAgIC8vIHN0ZXAgb2YgdGhlIGdlbmVyYXRvci4KICAgIG91dHB1dEVsZW1lbnQubGFzdFByb21pc2VWYWx1ZSA9IHZhbHVlOwogICAgcmV0dXJuIG5leHQudmFsdWUucmVzcG9uc2U7CiAgfSk7Cn0KCi8qKgogKiBHZW5lcmF0b3IgZnVuY3Rpb24gd2hpY2ggaXMgY2FsbGVkIGJldHdlZW4gZWFjaCBhc3luYyBzdGVwIG9mIHRoZSB1cGxvYWQKICogcHJvY2Vzcy4KICogQHBhcmFtIHtzdHJpbmd9IGlucHV0SWQgRWxlbWVudCBJRCBvZiB0aGUgaW5wdXQgZmlsZSBwaWNrZXIgZWxlbWVudC4KICogQHBhcmFtIHtzdHJpbmd9IG91dHB1dElkIEVsZW1lbnQgSUQgb2YgdGhlIG91dHB1dCBkaXNwbGF5LgogKiBAcmV0dXJuIHshSXRlcmFibGU8IU9iamVjdD59IEl0ZXJhYmxlIG9mIG5leHQgc3RlcHMuCiAqLwpmdW5jdGlvbiogdXBsb2FkRmlsZXNTdGVwKGlucHV0SWQsIG91dHB1dElkKSB7CiAgY29uc3QgaW5wdXRFbGVtZW50ID0gZG9jdW1lbnQuZ2V0RWxlbWVudEJ5SWQoaW5wdXRJZCk7CiAgaW5wdXRFbGVtZW50LmRpc2FibGVkID0gZmFsc2U7CgogIGNvbnN0IG91dHB1dEVsZW1lbnQgPSBkb2N1bWVudC5nZXRFbGVtZW50QnlJZChvdXRwdXRJZCk7CiAgb3V0cHV0RWxlbWVudC5pbm5lckhUTUwgPSAnJzsKCiAgY29uc3QgcGlja2VkUHJvbWlzZSA9IG5ldyBQcm9taXNlKChyZXNvbHZlKSA9PiB7CiAgICBpbnB1dEVsZW1lbnQuYWRkRXZlbnRMaXN0ZW5lcignY2hhbmdlJywgKGUpID0+IHsKICAgICAgcmVzb2x2ZShlLnRhcmdldC5maWxlcyk7CiAgICB9KTsKICB9KTsKCiAgY29uc3QgY2FuY2VsID0gZG9jdW1lbnQuY3JlYXRlRWxlbWVudCgnYnV0dG9uJyk7CiAgaW5wdXRFbGVtZW50LnBhcmVudEVsZW1lbnQuYXBwZW5kQ2hpbGQoY2FuY2VsKTsKICBjYW5jZWwudGV4dENvbnRlbnQgPSAnQ2FuY2VsIHVwbG9hZCc7CiAgY29uc3QgY2FuY2VsUHJvbWlzZSA9IG5ldyBQcm9taXNlKChyZXNvbHZlKSA9PiB7CiAgICBjYW5jZWwub25jbGljayA9ICgpID0+IHsKICAgICAgcmVzb2x2ZShudWxsKTsKICAgIH07CiAgfSk7CgogIC8vIENhbmNlbCB1cGxvYWQgaWYgdXNlciBoYXNuJ3QgcGlja2VkIGFueXRoaW5nIGluIHRpbWVvdXQuCiAgY29uc3QgdGltZW91dFByb21pc2UgPSBuZXcgUHJvbWlzZSgocmVzb2x2ZSkgPT4gewogICAgc2V0VGltZW91dCgoKSA9PiB7CiAgICAgIHJlc29sdmUobnVsbCk7CiAgICB9LCBGSUxFX0NIQU5HRV9USU1FT1VUX01TKTsKICB9KTsKCiAgLy8gV2FpdCBmb3IgdGhlIHVzZXIgdG8gcGljayB0aGUgZmlsZXMuCiAgY29uc3QgZmlsZXMgPSB5aWVsZCB7CiAgICBwcm9taXNlOiBQcm9taXNlLnJhY2UoW3BpY2tlZFByb21pc2UsIHRpbWVvdXRQcm9taXNlLCBjYW5jZWxQcm9taXNlXSksCiAgICByZXNwb25zZTogewogICAgICBhY3Rpb246ICdzdGFydGluZycsCiAgICB9CiAgfTsKCiAgaWYgKCFmaWxlcykgewogICAgcmV0dXJuIHsKICAgICAgcmVzcG9uc2U6IHsKICAgICAgICBhY3Rpb246ICdjb21wbGV0ZScsCiAgICAgIH0KICAgIH07CiAgfQoKICBjYW5jZWwucmVtb3ZlKCk7CgogIC8vIERpc2FibGUgdGhlIGlucHV0IGVsZW1lbnQgc2luY2UgZnVydGhlciBwaWNrcyBhcmUgbm90IGFsbG93ZWQuCiAgaW5wdXRFbGVtZW50LmRpc2FibGVkID0gdHJ1ZTsKCiAgZm9yIChjb25zdCBmaWxlIG9mIGZpbGVzKSB7CiAgICBjb25zdCBsaSA9IGRvY3VtZW50LmNyZWF0ZUVsZW1lbnQoJ2xpJyk7CiAgICBsaS5hcHBlbmQoc3BhbihmaWxlLm5hbWUsIHtmb250V2VpZ2h0OiAnYm9sZCd9KSk7CiAgICBsaS5hcHBlbmQoc3BhbigKICAgICAgICBgKCR7ZmlsZS50eXBlIHx8ICduL2EnfSkgLSAke2ZpbGUuc2l6ZX0gYnl0ZXMsIGAgKwogICAgICAgIGBsYXN0IG1vZGlmaWVkOiAkewogICAgICAgICAgICBmaWxlLmxhc3RNb2RpZmllZERhdGUgPyBmaWxlLmxhc3RNb2RpZmllZERhdGUudG9Mb2NhbGVEYXRlU3RyaW5nKCkgOgogICAgICAgICAgICAgICAgICAgICAgICAgICAgICAgICAgICAnbi9hJ30gLSBgKSk7CiAgICBjb25zdCBwZXJjZW50ID0gc3BhbignMCUgZG9uZScpOwogICAgbGkuYXBwZW5kQ2hpbGQocGVyY2VudCk7CgogICAgb3V0cHV0RWxlbWVudC5hcHBlbmRDaGlsZChsaSk7CgogICAgY29uc3QgZmlsZURhdGFQcm9taXNlID0gbmV3IFByb21pc2UoKHJlc29sdmUpID0+IHsKICAgICAgY29uc3QgcmVhZGVyID0gbmV3IEZpbGVSZWFkZXIoKTsKICAgICAgcmVhZGVyLm9ubG9hZCA9IChlKSA9PiB7CiAgICAgICAgcmVzb2x2ZShlLnRhcmdldC5yZXN1bHQpOwogICAgICB9OwogICAgICByZWFkZXIucmVhZEFzQXJyYXlCdWZmZXIoZmlsZSk7CiAgICB9KTsKICAgIC8vIFdhaXQgZm9yIHRoZSBkYXRhIHRvIGJlIHJlYWR5LgogICAgbGV0IGZpbGVEYXRhID0geWllbGQgewogICAgICBwcm9taXNlOiBmaWxlRGF0YVByb21pc2UsCiAgICAgIHJlc3BvbnNlOiB7CiAgICAgICAgYWN0aW9uOiAnY29udGludWUnLAogICAgICB9CiAgICB9OwoKICAgIC8vIFVzZSBhIGNodW5rZWQgc2VuZGluZyB0byBhdm9pZCBtZXNzYWdlIHNpemUgbGltaXRzLiBTZWUgYi82MjExNTY2MC4KICAgIGxldCBwb3NpdGlvbiA9IDA7CiAgICB3aGlsZSAocG9zaXRpb24gPCBmaWxlRGF0YS5ieXRlTGVuZ3RoKSB7CiAgICAgIGNvbnN0IGxlbmd0aCA9IE1hdGgubWluKGZpbGVEYXRhLmJ5dGVMZW5ndGggLSBwb3NpdGlvbiwgTUFYX1BBWUxPQURfU0laRSk7CiAgICAgIGNvbnN0IGNodW5rID0gbmV3IFVpbnQ4QXJyYXkoZmlsZURhdGEsIHBvc2l0aW9uLCBsZW5ndGgpOwogICAgICBwb3NpdGlvbiArPSBsZW5ndGg7CgogICAgICBjb25zdCBiYXNlNjQgPSBidG9hKFN0cmluZy5mcm9tQ2hhckNvZGUuYXBwbHkobnVsbCwgY2h1bmspKTsKICAgICAgeWllbGQgewogICAgICAgIHJlc3BvbnNlOiB7CiAgICAgICAgICBhY3Rpb246ICdhcHBlbmQnLAogICAgICAgICAgZmlsZTogZmlsZS5uYW1lLAogICAgICAgICAgZGF0YTogYmFzZTY0LAogICAgICAgIH0sCiAgICAgIH07CiAgICAgIHBlcmNlbnQudGV4dENvbnRlbnQgPQogICAgICAgICAgYCR7TWF0aC5yb3VuZCgocG9zaXRpb24gLyBmaWxlRGF0YS5ieXRlTGVuZ3RoKSAqIDEwMCl9JSBkb25lYDsKICAgIH0KICB9CgogIC8vIEFsbCBkb25lLgogIHlpZWxkIHsKICAgIHJlc3BvbnNlOiB7CiAgICAgIGFjdGlvbjogJ2NvbXBsZXRlJywKICAgIH0KICB9Owp9CgpzY29wZS5nb29nbGUgPSBzY29wZS5nb29nbGUgfHwge307CnNjb3BlLmdvb2dsZS5jb2xhYiA9IHNjb3BlLmdvb2dsZS5jb2xhYiB8fCB7fTsKc2NvcGUuZ29vZ2xlLmNvbGFiLl9maWxlcyA9IHsKICBfdXBsb2FkRmlsZXMsCiAgX3VwbG9hZEZpbGVzQ29udGludWUsCn07Cn0pKHNlbGYpOwo=",
              "ok": true,
              "headers": [
                [
                  "content-type",
                  "application/javascript"
                ]
              ],
              "status": 200,
              "status_text": ""
            }
          },
          "base_uri": "https://localhost:8080/",
          "height": 72
        },
        "outputId": "0a58d590-414a-4718-ddd6-88bf85894873"
      },
      "cell_type": "code",
      "source": [
        "uploaded = files.upload()"
      ],
      "execution_count": 64,
      "outputs": [
        {
          "output_type": "display_data",
          "data": {
            "text/html": [
              "\n",
              "     <input type=\"file\" id=\"files-4606fa2e-9d1f-41f8-997d-211debfe1e33\" name=\"files[]\" multiple disabled />\n",
              "     <output id=\"result-4606fa2e-9d1f-41f8-997d-211debfe1e33\">\n",
              "      Upload widget is only available when the cell has been executed in the\n",
              "      current browser session. Please rerun this cell to enable.\n",
              "      </output>\n",
              "      <script src=\"/nbextensions/google.colab/files.js\"></script> "
            ],
            "text/plain": [
              "<IPython.core.display.HTML object>"
            ]
          },
          "metadata": {
            "tags": []
          }
        },
        {
          "output_type": "stream",
          "text": [
            "Saving sample_submission_LnhVWA4.csv to sample_submission_LnhVWA4.csv\n"
          ],
          "name": "stdout"
        }
      ]
    },
    {
      "metadata": {
        "id": "Or_Wumsh4wOd",
        "colab_type": "code",
        "colab": {}
      },
      "cell_type": "code",
      "source": [
        "train = pd.read_csv(io.StringIO(uploaded[\"train.csv\"].decode('utf-8')))"
      ],
      "execution_count": 0,
      "outputs": []
    },
    {
      "metadata": {
        "id": "ZmqgzlwZ47A2",
        "colab_type": "code",
        "colab": {}
      },
      "cell_type": "code",
      "source": [
        "test = pd.read_csv(io.StringIO(uploaded[\"test.csv\"].decode(\"utf-8\")))"
      ],
      "execution_count": 0,
      "outputs": []
    },
    {
      "metadata": {
        "id": "68rjZ-moLai_",
        "colab_type": "code",
        "colab": {}
      },
      "cell_type": "code",
      "source": [
        "#data preprocessing\n",
        "\n",
        "!pip install HTMLParser\n",
        "from html.parser import HTMLParser\n",
        "html_parser= HTMLParser()\n",
        "\n",
        "#Converts all named and numeric character references to the corresponding unicode characters\n",
        "train[\"tweet\"]= html_parser.unescape(train[\"tweet\"])\n",
        "test[\"tweet\"]=html_parser.unescape(test[\"tweet\"])\n",
        "\n",
        "#remove http links\n",
        "train['tweet'] = train['tweet'].str.replace('http\\S+|www.\\S+', '', case=False)\n",
        "test['tweet'] = test['tweet'].str.replace('http\\S+|www.\\S+', '', case=False)\n",
        "\n",
        "\n",
        "train['tweet']=train['tweet'].astype(str).str.lower()\n",
        "test[\"tweet\"]=test[\"tweet\"].astype(str).str.lower()\n",
        "\n",
        "#removing tagged words\n",
        "def remove_word(tweet):\n",
        "  return \" \".join(filter(lambda x: x[0]!='@',tweet.split()))\n",
        "\n",
        "train[\"tweet\"]=train['tweet'].apply(remove_word)\n",
        "test[\"tweet\"]=test[\"tweet\"].apply(remove_word)\n",
        "\n",
        "#expanding apostrophes\n",
        "apostrophes={\"i'm\":\"i am\",\"i'd\":\"i would\",\"they'd\":\"they would\",\"he'd\":\"he would\",\n",
        "             \"she'd\":\"she would\",\"it'd\":\"it would\",\"'ve\":\" have\",\"it's\":\"it is\",\"don't\":\"do not\",\n",
        "             \"didn't\":\"did not\",\"aren't\":\"are not\",\"isn't\":\"is not\",\"wasn't\":\"was not\",\"haven't\":\"have not\",\n",
        "             \"hadn't\":\"had not\",\"hasn't\":\"has not\",\"won't\":\"will not\",\"can't\":\"cannot\",\"don't\":'do not',\n",
        "             \"wouldn't\":\"would not\",\"shouldn't\":\"should not\",\"couldn't\":\"cound not\",\"i'll\":\" i will\",\n",
        "             \"they'll\":\"they will\",\"it'll\":\"it will\",\"he'll\":\"he will\",\"she'll\":\"she will\",\"y'll\":\"you all\",\"'re\":\"are\",\"doesn't\":\"does not\"}\n",
        "\n",
        "def apost_word(tweet):\n",
        "  return \" \".join([apostrophes.get(w,w) for w in tweet.split()])\n",
        "\n",
        "train[\"tweet\"]=train[\"tweet\"].apply(apost_word)\n",
        "test[\"tweet\"]=test[\"tweet\"].apply(apost_word)\n",
        "\n",
        "#removing stop words\n",
        "from nltk.corpus import stopwords\n",
        "import nltk\n",
        "nltk.download('stopwords')\n",
        "stop =stopwords.words('english')\n",
        "\n",
        "\n",
        "train[\"tweet\"]=train[\"tweet\"].apply(lambda x: \" \".join(x for x in x.split() if x not in stop))\n",
        "test[\"tweet\"]=test[\"tweet\"].apply(lambda x: \" \".join(x for x in x.split() if x not in stop))\n",
        "\n",
        "#removing punctuations\n",
        "train['tweet']=train[\"tweet\"].str.replace('.','')\n",
        "train[\"tweet\"]=train[\"tweet\"].str.replace(',','')\n",
        "train[\"tweet\"]=train[\"tweet\"].str.replace('!','')\n",
        "\n",
        "test['tweet']=test[\"tweet\"].str.replace('.','')\n",
        "test[\"tweet\"]=test[\"tweet\"].str.replace(',','')\n",
        "test[\"tweet\"]=test[\"tweet\"].str.replace('!','')\n",
        "\n",
        "#removing the top 10 most common words\n",
        "commonwords=pd.Series(' '.join(train['tweet']).split()).value_counts()[:7]\n",
        "freq = list(commonwords.index)\n",
        "train[\"tweet\"] =train['tweet'].apply(lambda x: \" \".join(x for x in x.split() if x not in freq))\n",
        "test[\"tweet\"] =test['tweet'].apply(lambda x: \" \".join(x for x in x.split() if x not in freq))\n",
        "commonwords2=pd.Series(' '.join(train['tweet']).split()).value_counts()[1:3]\n",
        "freq2 = list(commonwords2.index)\n",
        "train[\"tweet\"] =train['tweet'].apply(lambda x: \" \".join(x for x in x.split() if x not in freq2))\n",
        "test[\"tweet\"] =test['tweet'].apply(lambda x: \" \".join(x for x in x.split() if x not in freq2))\n",
        "\n",
        "#removing the last 10 less common words\n",
        "rare = pd.Series(' '.join(train['tweet']).split()).value_counts()[-10:]\n",
        "rare = list(rare.index)\n",
        "\n",
        "train[\"tweet\"]=train['tweet'].apply(lambda x: \" \".join(x for x in x.split() if x not in rare))\n",
        "test[\"tweet\"]=test['tweet'].apply(lambda x: \" \".join(x for x in x.split() if x not in rare))\n",
        "\n",
        "#standardizing  words\n",
        "import itertools\n",
        "def standardization(tweet):\n",
        "  return ''.join(''.join(s)[:1] for _, s in itertools.groupby(tweet))\n",
        "train[\"tweet\"]=train[\"tweet\"].apply(standardization)\n",
        "test[\"tweet\"]=test[\"tweet\"].apply(standardization)\n",
        "\n",
        "#removing stemming words through lemmatization\n",
        "nltk.download('wordnet')\n",
        "from textblob import Word\n",
        "train[\"tweet\"]=train['tweet'].apply(lambda x: \" \".join([Word(word).lemmatize() for word in x.split()]))\n",
        "test[\"tweet\"]=test['tweet'].apply(lambda x: \" \".join([Word(word).lemmatize() for word in x.split()]))\n",
        "\n"
      ],
      "execution_count": 0,
      "outputs": []
    },
    {
      "metadata": {
        "id": "R7-M9qF39a7n",
        "colab_type": "code",
        "colab": {}
      },
      "cell_type": "code",
      "source": [
        "label= train[\"label\"]\n",
        "tweet=train[\"tweet\"]"
      ],
      "execution_count": 0,
      "outputs": []
    },
    {
      "metadata": {
        "id": "rjrZHIR55LQi",
        "colab_type": "code",
        "colab": {}
      },
      "cell_type": "code",
      "source": [
        "#train test split\n",
        "train_X,val_X,train_y,val_y=model_selection.train_test_split(train[\"tweet\"],train[\"label\"],test_size=0.2,stratify=train[\"label\"],random_state=0)"
      ],
      "execution_count": 0,
      "outputs": []
    },
    {
      "metadata": {
        "id": "0C_ncLT7__w0",
        "colab_type": "code",
        "colab": {}
      },
      "cell_type": "code",
      "source": [
        "#count vectorizer\n",
        "count_vect = CountVectorizer(analyzer='word',token_pattern='\\w{1,}')\n",
        "count_vect.fit(train[\"tweet\"])\n",
        "train_X_count=count_vect.transform(train_X)\n",
        "val_X_count=count_vect.transform(val_X)"
      ],
      "execution_count": 0,
      "outputs": []
    },
    {
      "metadata": {
        "id": "7_Mes7dlBc_G",
        "colab_type": "code",
        "colab": {}
      },
      "cell_type": "code",
      "source": [
        "#word level tf-idf\n",
        "tfidf_vect = TfidfVectorizer(analyzer='word',token_pattern='\\w{1,}', max_features=2000)\n",
        "tfidf_vect.fit(train[\"tweet\"])\n",
        "train_X_tfidf=tfidf_vect.transform(train_X)\n",
        "val_X_tfidf=tfidf_vect.transform(val_X)"
      ],
      "execution_count": 0,
      "outputs": []
    },
    {
      "metadata": {
        "id": "5RlIyfL3DJ4s",
        "colab_type": "code",
        "colab": {}
      },
      "cell_type": "code",
      "source": [
        "#N-gram level tf-idf\n",
        "tfidf_vect_ngram=TfidfVectorizer(analyzer='word',token_pattern='\\w{1,}',ngram_range=(1,2),max_features=2000)\n",
        "tfidf_vect_ngram.fit(train[\"tweet\"])\n",
        "train_X_tfidf_ngram=tfidf_vect_ngram.transform(train_X)\n",
        "val_X_tfidf_ngram=tfidf_vect_ngram.transform(val_X)\n"
      ],
      "execution_count": 0,
      "outputs": []
    },
    {
      "metadata": {
        "id": "e3BPG1BEPZAl",
        "colab_type": "code",
        "colab": {}
      },
      "cell_type": "code",
      "source": [
        "#character level tf-idf \n",
        "tfidf_vect_ngram_chars=TfidfVectorizer(analyzer='char',token_pattern='\\w{1,}',ngram_range=(2,3),max_features=2000)\n",
        "tfidf_vect_ngram_chars.fit(train[\"tweet\"])\n",
        "train_X_tfidf_ngram_chars=tfidf_vect_ngram_chars.transform(train_X)\n",
        "val_X_tfidf_ngram_chars=tfidf_vect_ngram_chars.transform(val_X)"
      ],
      "execution_count": 0,
      "outputs": []
    },
    {
      "metadata": {
        "id": "UOHJpK5pR872",
        "colab_type": "code",
        "colab": {}
      },
      "cell_type": "code",
      "source": [
        "def train_model(classifier,feature_vector_train,label,feature_vector_valid,is_neural_net=False):\n",
        "  classifier.fit(feature_vector_train,label)\n",
        "  predictions=classifier.predict(feature_vector_valid)\n",
        "  \n",
        "  if is_neural_net:\n",
        "    predictions=predictions.argmax(axis=-1)\n",
        "  \n",
        "  \n",
        "  return metrics.f1_score(predictions,val_y)"
      ],
      "execution_count": 0,
      "outputs": []
    },
    {
      "metadata": {
        "id": "YmZZxIYcrWhh",
        "colab_type": "code",
        "colab": {
          "base_uri": "https://localhost:8080/",
          "height": 85
        },
        "outputId": "9420e84e-9f66-4aea-cdde-d87b740071ff"
      },
      "cell_type": "code",
      "source": [
        "#naives bayes on count vectors\n",
        "\n",
        "f1_score = train_model(naive_bayes.MultinomialNB(), train_X_count, train_y,val_X_count)\n",
        "print(\"NB, Count Vectors\",f1_score)\n",
        "\n",
        "#naive bayes on word level tf-idf vectors\n",
        "f1_score=train_model(naive_bayes.MultinomialNB(),train_X_tfidf,train_y,val_X_tfidf)\n",
        "print(\"NB, Word Level TF-IDF Vectors\", f1_score)\n",
        "\n",
        "#naive bayes on n-gram level TF-IDF vecotrs\n",
        "f1_score = train_model(naive_bayes.MultinomialNB(), train_X_tfidf_ngram, train_y,val_X_tfidf_ngram)\n",
        "print(\"NB, n-gram Vectors\",f1_score)\n",
        "\n",
        "#naive bayes on character level tf-idf vectors\n",
        "f1_score=train_model(naive_bayes.MultinomialNB(),train_X_tfidf_ngram_chars,train_y,val_X_tfidf_ngram_chars)\n",
        "print(\"NB, character Level TF-IDF Vectors\", f1_score)\n",
        "\n"
      ],
      "execution_count": 200,
      "outputs": [
        {
          "output_type": "stream",
          "text": [
            "NB, Count Vectors 0.7682403433476396\n",
            "NB, Word Level TF-IDF Vectors 0.773006134969325\n",
            "NB, n-gram Vectors 0.7734939759036146\n",
            "NB, character Level TF-IDF Vectors 0.7817371937639198\n"
          ],
          "name": "stdout"
        }
      ]
    },
    {
      "metadata": {
        "id": "5ghfm5qas6fy",
        "colab_type": "code",
        "colab": {
          "base_uri": "https://localhost:8080/",
          "height": 85
        },
        "outputId": "a2bb10a0-4337-4e31-d69d-ca480c2a5159"
      },
      "cell_type": "code",
      "source": [
        "#Linear Classifier\n",
        "\n",
        "#count vectors\n",
        "f1_score = train_model(linear_model.LogisticRegression(), train_X_count, train_y,val_X_count)\n",
        "print(\"LR, Count Vectors\",f1_score)\n",
        "\n",
        "#word level tf-idf vectors\n",
        "f1_score = train_model(linear_model.LogisticRegression(), train_X_tfidf, train_y,val_X_tfidf)\n",
        "print(\"LR, word level vectors\",f1_score)\n",
        "\n",
        "#ngram level tf-idf vectors\n",
        "f1_score = train_model(linear_model.LogisticRegression(), train_X_tfidf_ngram, train_y,val_X_tfidf_ngram)\n",
        "print(\"LR, ngram level Vectors\",f1_score)\n",
        "\n",
        "#character level tf-idf vectors\n",
        "f1_score = train_model(linear_model.LogisticRegression(), train_X_tfidf_ngram_chars, train_y,val_X_tfidf_ngram_chars)\n",
        "print(\"LR, charlevel Vectors\",f1_score)"
      ],
      "execution_count": 201,
      "outputs": [
        {
          "output_type": "stream",
          "text": [
            "LR, Count Vectors 0.722860791826309\n",
            "LR, word level vectors 0.7209944751381215\n",
            "LR, ngram level Vectors 0.7227586206896552\n",
            "LR, charlevel Vectors 0.7661691542288556\n"
          ],
          "name": "stdout"
        }
      ]
    },
    {
      "metadata": {
        "id": "VvvTIP6Suaav",
        "colab_type": "code",
        "colab": {
          "base_uri": "https://localhost:8080/",
          "height": 139
        },
        "outputId": "0b84dc7b-8985-4bac-c2d5-2a4a0b7aba28"
      },
      "cell_type": "code",
      "source": [
        "#SVM\n",
        "\n",
        "#count vectors\n",
        "f1_score = train_model(svm.SVC(), train_X_count, train_y,val_X_count)\n",
        "print(\"svm, Count Vectors\",f1_score)\n",
        "\n",
        "#word level tf-idf vectors\n",
        "f1_score = train_model(linear_model.LogisticRegression(), train_X_tfidf, train_y,val_X_tfidf)\n",
        "print(\"svm, word level vectors\",f1_score)\n",
        "\n",
        "#ngram level tf-idf vectors\n",
        "f1_score = train_model(linear_model.LogisticRegression(), train_X_tfidf_ngram, train_y,val_X_tfidf_ngram)\n",
        "print(\"svm, ngram level Vectors\",f1_score)\n",
        "\n",
        "#character level tf-idf vectors\n",
        "f1_score = train_model(linear_model.LogisticRegression(), train_X_tfidf_ngram_chars, train_y,val_X_tfidf_ngram_chars)\n",
        "print(\"svm, charlevel Vectors\",f1_score)\n"
      ],
      "execution_count": 202,
      "outputs": [
        {
          "output_type": "stream",
          "text": [
            "svm, Count Vectors 0.0\n",
            "svm, word level vectors 0.7209944751381215\n",
            "svm, ngram level Vectors 0.7227586206896552\n",
            "svm, charlevel Vectors 0.7661691542288556\n"
          ],
          "name": "stdout"
        },
        {
          "output_type": "stream",
          "text": [
            "/usr/local/lib/python3.6/dist-packages/sklearn/metrics/classification.py:1137: UndefinedMetricWarning: F-score is ill-defined and being set to 0.0 due to no true samples.\n",
            "  'recall', 'true', average, warn_for)\n"
          ],
          "name": "stderr"
        }
      ]
    },
    {
      "metadata": {
        "id": "4H-oZJzJvnvh",
        "colab_type": "code",
        "colab": {
          "base_uri": "https://localhost:8080/",
          "height": 85
        },
        "outputId": "184f82c0-85a0-4dab-dba4-ffd58d15c1fe"
      },
      "cell_type": "code",
      "source": [
        "#RF Model\n",
        "\n",
        "#count vectors\n",
        "f1_score = train_model(ensemble.RandomForestClassifier(), train_X_count, train_y,val_X_count)\n",
        "print(\"RF, Count Vectors\",f1_score)\n",
        "\n",
        "#word level tf-idf vectors\n",
        "f1_score = train_model(ensemble.RandomForestClassifier(), train_X_tfidf, train_y,val_X_tfidf)\n",
        "print(\"RF, word level vectors\",f1_score)\n",
        "\n",
        "#ngram level tf-idf vectors\n",
        "f1_score = train_model(ensemble.RandomForestClassifier(), train_X_tfidf_ngram, train_y,val_X_tfidf_ngram)\n",
        "print(\"RF, ngram level Vectors\",f1_score)\n",
        "\n",
        "#character level tf-idf vectors\n",
        "f1_score = train_model(ensemble.RandomForestClassifier(), train_X_tfidf_ngram_chars, train_y,val_X_tfidf_ngram_chars)\n",
        "print(\"RF, charlevel Vectors\",f1_score)\n"
      ],
      "execution_count": 203,
      "outputs": [
        {
          "output_type": "stream",
          "text": [
            "RF, Count Vectors 0.6685082872928175\n",
            "RF, word level vectors 0.6949806949806949\n",
            "RF, ngram level Vectors 0.6675427069645203\n",
            "RF, charlevel Vectors 0.6694444444444444\n"
          ],
          "name": "stdout"
        }
      ]
    },
    {
      "metadata": {
        "id": "cz2gWgC1wH97",
        "colab_type": "code",
        "colab": {
          "base_uri": "https://localhost:8080/",
          "height": 241
        },
        "outputId": "090e78a3-5585-4c3b-93ff-783314d3eb72"
      },
      "cell_type": "code",
      "source": [
        "#XGBoost Model\n",
        "\n",
        "#count vectors\n",
        "f1_score = train_model(xgboost.XGBClassifier(), train_X_count.tocsc(), train_y,val_X_count.tocsc())\n",
        "print(\"XGB, Count Vectors\",f1_score)\n",
        "\n",
        "#word level tf-idf vectors\n",
        "f1_score = train_model(xgboost.XGBClassifier(), train_X_tfidf.tocsc(), train_y,val_X_tfidf.tocsc())\n",
        "print(\"XGB, word level vectors\",f1_score)\n",
        "\n",
        "#ngram level tf-idf vectors\n",
        "f1_score = train_model(xgboost.XGBClassifier(), train_X_tfidf_ngram.tocsc(), train_y,val_X_tfidf_ngram.tocsc())\n",
        "print(\"XGB, ngram level Vectors\",f1_score)\n",
        "\n",
        "#character level tf-idf vectors\n",
        "f1_score = train_model(xgboost.XGBClassifier(), train_X_tfidf_ngram_chars.tocsc(), train_y,val_X_tfidf_ngram_chars.tocsc())\n",
        "print(\"XGB, charlevel Vectors\",f1_score)\n"
      ],
      "execution_count": 204,
      "outputs": [
        {
          "output_type": "stream",
          "text": [
            "/usr/local/lib/python3.6/dist-packages/sklearn/preprocessing/label.py:151: DeprecationWarning: The truth value of an empty array is ambiguous. Returning False, but in future this will result in an error. Use `array.size > 0` to check that an array is not empty.\n",
            "  if diff:\n"
          ],
          "name": "stderr"
        },
        {
          "output_type": "stream",
          "text": [
            "XGB, Count Vectors 0.47957371225577256\n"
          ],
          "name": "stdout"
        },
        {
          "output_type": "stream",
          "text": [
            "/usr/local/lib/python3.6/dist-packages/sklearn/preprocessing/label.py:151: DeprecationWarning: The truth value of an empty array is ambiguous. Returning False, but in future this will result in an error. Use `array.size > 0` to check that an array is not empty.\n",
            "  if diff:\n"
          ],
          "name": "stderr"
        },
        {
          "output_type": "stream",
          "text": [
            "XGB, word level vectors 0.4814159292035398\n"
          ],
          "name": "stdout"
        },
        {
          "output_type": "stream",
          "text": [
            "/usr/local/lib/python3.6/dist-packages/sklearn/preprocessing/label.py:151: DeprecationWarning: The truth value of an empty array is ambiguous. Returning False, but in future this will result in an error. Use `array.size > 0` to check that an array is not empty.\n",
            "  if diff:\n"
          ],
          "name": "stderr"
        },
        {
          "output_type": "stream",
          "text": [
            "XGB, ngram level Vectors 0.4929577464788732\n",
            "XGB, charlevel Vectors 0.7910798122065728\n"
          ],
          "name": "stdout"
        },
        {
          "output_type": "stream",
          "text": [
            "/usr/local/lib/python3.6/dist-packages/sklearn/preprocessing/label.py:151: DeprecationWarning: The truth value of an empty array is ambiguous. Returning False, but in future this will result in an error. Use `array.size > 0` to check that an array is not empty.\n",
            "  if diff:\n"
          ],
          "name": "stderr"
        }
      ]
    },
    {
      "metadata": {
        "id": "kN6NhtjMw4Wg",
        "colab_type": "code",
        "colab": {
          "base_uri": "https://localhost:8080/",
          "height": 275
        },
        "outputId": "70e42096-2fb0-4b17-f48b-fa1b92b9da46"
      },
      "cell_type": "code",
      "source": [
        "#shallow NN\n",
        "\n",
        "def create_model_architecture(input_size):\n",
        "  input_layer = layers.Input((input_size,),sparse=True)\n",
        "  hidden_layer= layers.Dense(100,activation='relu')(input_layer)\n",
        "  output_layer = layers.Dense(1,activation='sigmoid')(hidden_layer)\n",
        " \n",
        "  classifier=models.Model(inputs=input_layer,outputs=output_layer)\n",
        "  classifier.compile(optimizer=optimizers.Adam(),loss='binary_crossentropy')\n",
        "  return classifier\n",
        "\n",
        "classifier=create_model_architecture(train_X_count.shape[1])\n",
        "f1_score= train_model(classifier,train_X_count,train_y,val_X_count,is_neural_net=True)\n",
        "print(\"NN, Count Vectorizer\",f1_score)\n",
        "\n",
        "classifier2=create_model_architecture(train_X_tfidf.shape[1])\n",
        "f1_score= train_model(classifier2,train_X_tfidf,train_y,val_X_tfidf,is_neural_net=True)\n",
        "print(\"NN, word tf-idf\",f1_score)\n",
        "\n",
        "classifier3=create_model_architecture(train_X_tfidf_ngram.shape[1])\n",
        "f1_score= train_model(classifier3,train_X_tfidf_ngram,train_y,val_X_tfidf_ngram,is_neural_net=True)\n",
        "print(\"NN, ngram tf-idf Vectorizer\",f1_score)\n",
        "\n",
        "classifier4=create_model_architecture(train_X_tfidf_ngram_chars.shape[1])\n",
        "f1_score= train_model(classifier4,train_X_tfidf_ngram_chars,train_y,val_X_tfidf_ngram_chars,is_neural_net=True)\n",
        "print(\"NN, charlevel tf-idf Vectorizer\",f1_score)\n"
      ],
      "execution_count": 25,
      "outputs": [
        {
          "output_type": "stream",
          "text": [
            "Epoch 1/1\n",
            "6336/6336 [==============================] - 2s 336us/step - loss: 0.3052\n",
            "NN, Count Vectorizer 0.0\n"
          ],
          "name": "stdout"
        },
        {
          "output_type": "stream",
          "text": [
            "/usr/local/lib/python3.6/dist-packages/sklearn/metrics/classification.py:1137: UndefinedMetricWarning: F-score is ill-defined and being set to 0.0 due to no true samples.\n",
            "  'recall', 'true', average, warn_for)\n"
          ],
          "name": "stderr"
        },
        {
          "output_type": "stream",
          "text": [
            "Epoch 1/1\n",
            "6336/6336 [==============================] - 1s 224us/step - loss: 0.4118\n",
            "NN, word tf-idf 0.0\n",
            "Epoch 1/1\n",
            "6336/6336 [==============================] - 1s 228us/step - loss: 0.3810\n",
            "NN, ngram tf-idf Vectorizer 0.0\n",
            "Epoch 1/1\n",
            "6336/6336 [==============================] - 2s 238us/step - loss: 0.3149\n",
            "NN, charlevel tf-idf Vectorizer 0.0\n"
          ],
          "name": "stdout"
        }
      ]
    },
    {
      "metadata": {
        "id": "HggaCwGmMOeD",
        "colab_type": "code",
        "colab": {}
      },
      "cell_type": "code",
      "source": [
        "#found XGBoost classifier for char level ngram as the best model\n",
        "test_tfidf_ngram_chars=tfidf_vect_ngram_chars.transform(test[\"tweet\"])\n",
        "\n",
        "classifier=xgboost.XGBClassifier()\n",
        "classifier.fit(train_X_tfidf_ngram_chars,train_y)\n",
        "predictions=classifier.predict(test_tfidf_ngram_chars)\n",
        "\n",
        "df=pd.DataFrame({\"id\":test.id,\"label\":predictions})"
      ],
      "execution_count": 0,
      "outputs": []
    },
    {
      "metadata": {
        "id": "64orHgG92sy0",
        "colab_type": "code",
        "colab": {
          "base_uri": "https://localhost:8080/",
          "height": 34
        },
        "outputId": "516b26b6-9ec4-45e8-dbd6-a93b41d12dce"
      },
      "cell_type": "code",
      "source": [
        "from IPython.display import HTML\n",
        "import base64\n",
        "\n",
        "def create_download_link( df, title = \"Download CSV file\", filename = \"data_tfidf_ngram_chars_XGB.csv\"):  \n",
        "    csv = df.to_csv(index=False)\n",
        "    b64 = base64.b64encode(csv.encode())\n",
        "    payload = b64.decode()\n",
        "    html = '<a download=\"{filename}\" href=\"data:text/csv;base64,{payload}\" target=\"_blank\">{title}</a>'\n",
        "    html = html.format(payload=payload,title=title,filename=filename)\n",
        "    return HTML(html)\n",
        "\n",
        "create_download_link(df)"
      ],
      "execution_count": 208,
      "outputs": [
        {
          "output_type": "execute_result",
          "data": {
            "text/html": [
              "<a download=\"data_tfidf_ngram_chars_XGB.csv\" href=\"data:text/csv;base64,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\" target=\"_blank\">Download CSV file</a>"
            ],
            "text/plain": [
              "<IPython.core.display.HTML object>"
            ]
          },
          "metadata": {
            "tags": []
          },
          "execution_count": 208
        }
      ]
    },
    {
      "metadata": {
        "id": "aAH3uS55HHXm",
        "colab_type": "code",
        "colab": {}
      },
      "cell_type": "code",
      "source": [
        ""
      ],
      "execution_count": 0,
      "outputs": []
    }
  ]
}